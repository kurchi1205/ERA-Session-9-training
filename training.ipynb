{
 "cells": [
  {
   "cell_type": "code",
   "execution_count": 10,
   "metadata": {
    "tags": []
   },
   "outputs": [
    {
     "name": "stdout",
     "output_type": "stream",
     "text": [
      "Collecting albumentations\n",
      "  Downloading albumentations-1.3.1-py3-none-any.whl (125 kB)\n",
      "\u001b[K     |████████████████████████████████| 125 kB 11.4 MB/s eta 0:00:01\n",
      "\u001b[?25hCollecting scikit-image>=0.16.1\n",
      "  Downloading scikit_image-0.21.0-cp39-cp39-manylinux_2_17_x86_64.manylinux2014_x86_64.whl (13.8 MB)\n",
      "\u001b[K     |████████████████████████████████| 13.8 MB 41.4 MB/s eta 0:00:01\n",
      "\u001b[?25hRequirement already satisfied: PyYAML in ./.conda/envs/default/lib/python3.9/site-packages (from albumentations) (6.0)\n",
      "Requirement already satisfied: numpy>=1.11.1 in ./.conda/envs/default/lib/python3.9/site-packages (from albumentations) (1.25.0)\n",
      "Collecting opencv-python-headless>=4.1.1\n",
      "  Downloading opencv_python_headless-4.7.0.72-cp37-abi3-manylinux_2_17_x86_64.manylinux2014_x86_64.whl (49.2 MB)\n",
      "\u001b[K     |████████████████████████████████| 49.2 MB 61.5 MB/s eta 0:00:01\n",
      "\u001b[?25hCollecting qudida>=0.0.4\n",
      "  Downloading qudida-0.0.4-py3-none-any.whl (3.5 kB)\n",
      "Collecting scipy>=1.1.0\n",
      "  Downloading scipy-1.11.1-cp39-cp39-manylinux_2_17_x86_64.manylinux2014_x86_64.whl (36.5 MB)\n",
      "\u001b[K     |████████████████████████████████| 36.5 MB 65.4 MB/s eta 0:00:01\n",
      "\u001b[?25hCollecting scikit-learn>=0.19.1\n",
      "  Downloading scikit_learn-1.2.2-cp39-cp39-manylinux_2_17_x86_64.manylinux2014_x86_64.whl (9.6 MB)\n",
      "\u001b[K     |████████████████████████████████| 9.6 MB 75.8 MB/s eta 0:00:01\n",
      "\u001b[?25hRequirement already satisfied: typing-extensions in ./.conda/envs/default/lib/python3.9/site-packages (from qudida>=0.0.4->albumentations) (4.5.0)\n",
      "Collecting PyWavelets>=1.1.1\n",
      "  Downloading PyWavelets-1.4.1-cp39-cp39-manylinux_2_17_x86_64.manylinux2014_x86_64.whl (6.9 MB)\n",
      "\u001b[K     |████████████████████████████████| 6.9 MB 102.1 MB/s eta 0:00:01\n",
      "\u001b[?25hRequirement already satisfied: packaging>=21 in ./.conda/envs/default/lib/python3.9/site-packages (from scikit-image>=0.16.1->albumentations) (23.0)\n",
      "Collecting networkx>=2.8\n",
      "  Downloading networkx-3.1-py3-none-any.whl (2.1 MB)\n",
      "\u001b[K     |████████████████████████████████| 2.1 MB 67.0 MB/s eta 0:00:01\n",
      "\u001b[?25hCollecting lazy_loader>=0.2\n",
      "  Downloading lazy_loader-0.2-py3-none-any.whl (8.6 kB)\n",
      "Collecting tifffile>=2022.8.12\n",
      "  Downloading tifffile-2023.4.12-py3-none-any.whl (219 kB)\n",
      "\u001b[K     |████████████████████████████████| 219 kB 79.3 MB/s eta 0:00:01\n",
      "\u001b[?25hCollecting imageio>=2.27\n",
      "  Downloading imageio-2.31.1-py3-none-any.whl (313 kB)\n",
      "\u001b[K     |████████████████████████████████| 313 kB 73.4 MB/s eta 0:00:01\n",
      "\u001b[?25hRequirement already satisfied: pillow>=9.0.1 in ./.conda/envs/default/lib/python3.9/site-packages (from scikit-image>=0.16.1->albumentations) (9.5.0)\n",
      "Collecting joblib>=1.1.1\n",
      "  Downloading joblib-1.3.0-py3-none-any.whl (301 kB)\n",
      "\u001b[K     |████████████████████████████████| 301 kB 96.2 MB/s eta 0:00:01\n",
      "\u001b[?25hCollecting threadpoolctl>=2.0.0\n",
      "  Downloading threadpoolctl-3.1.0-py3-none-any.whl (14 kB)\n",
      "Installing collected packages: threadpoolctl, scipy, joblib, tifffile, scikit-learn, PyWavelets, opencv-python-headless, networkx, lazy-loader, imageio, scikit-image, qudida, albumentations\n",
      "Successfully installed PyWavelets-1.4.1 albumentations-1.3.1 imageio-2.31.1 joblib-1.3.0 lazy-loader-0.2 networkx-3.1 opencv-python-headless-4.7.0.72 qudida-0.0.4 scikit-image-0.21.0 scikit-learn-1.2.2 scipy-1.11.1 threadpoolctl-3.1.0 tifffile-2023.4.12\n",
      "Note: you may need to restart the kernel to use updated packages.\n"
     ]
    }
   ],
   "source": [
    "%pip install albumentations"
   ]
  },
  {
   "cell_type": "code",
   "execution_count": 1,
   "metadata": {
    "tags": []
   },
   "outputs": [],
   "source": [
    "import albumentations as A\n",
    "import torch\n",
    "import numpy as np\n",
    "from torchsummary import summary\n",
    "\n",
    "from data import CIFAR10WithAlbumentations\n",
    "from model import Net\n",
    "from utils_train import train, test\n",
    "from utils_plot import imshow"
   ]
  },
  {
   "cell_type": "code",
   "execution_count": 2,
   "metadata": {
    "tags": []
   },
   "outputs": [
    {
     "name": "stdout",
     "output_type": "stream",
     "text": [
      "Files already downloaded and verified\n",
      "Files already downloaded and verified\n"
     ]
    }
   ],
   "source": [
    "train_transforms = A.Compose([\n",
    "            A.HorizontalFlip(p=0.5),\n",
    "            A.ShiftScaleRotate(),\n",
    "            A.CoarseDropout(max_holes = 1, max_height=16, max_width=16, min_holes = 1, min_height=16, min_width=16, fill_value=108, mask_fill_value = None),\n",
    "            A.Normalize((0.5, 0.49, 0.45), (0.23, 0.23, 0.25), always_apply=True)\n",
    "        ])\n",
    "test_transforms = A.Compose([\n",
    "            A.Normalize((0.5, 0.49, 0.45), (0.23, 0.23, 0.25), always_apply=True)\n",
    "        ])\n",
    "train_ds = CIFAR10WithAlbumentations('./data', train=True, download=True, transform=train_transforms)\n",
    "test_ds = CIFAR10WithAlbumentations('./data', train=False, download=True, transform=test_transforms)\n"
   ]
  },
  {
   "cell_type": "code",
   "execution_count": 3,
   "metadata": {
    "tags": []
   },
   "outputs": [
    {
     "name": "stdout",
     "output_type": "stream",
     "text": [
      "CUDA Available? True\n"
     ]
    }
   ],
   "source": [
    "SEED = 1\n",
    "\n",
    "# CUDA?\n",
    "cuda = torch.cuda.is_available()\n",
    "print(\"CUDA Available?\", cuda)\n",
    "\n",
    "# For reproducibility\n",
    "torch.manual_seed(SEED)\n",
    "\n",
    "if cuda:\n",
    "    torch.cuda.manual_seed(SEED)\n",
    "\n",
    "# dataloader arguments - something you'll fetch these from cmdprmt\n",
    "dataloader_args = dict(shuffle=True, batch_size=128, num_workers=4, pin_memory=True) if cuda else dict(shuffle=True, batch_size=64)\n",
    "\n",
    "# train dataloader\n",
    "train_loader = torch.utils.data.DataLoader(train_ds, **dataloader_args)\n",
    "\n",
    "# test dataloader\n",
    "test_loader = torch.utils.data.DataLoader(test_ds, **dataloader_args)\n"
   ]
  },
  {
   "cell_type": "code",
   "execution_count": 4,
   "metadata": {
    "tags": []
   },
   "outputs": [
    {
     "name": "stdout",
     "output_type": "stream",
     "text": [
      "[Train]\n",
      " - Numpy Shape: (50000, 32, 32, 3)\n",
      " - Tensor Shape: torch.Size([128, 3, 32, 32])\n",
      " - min: 0\n",
      " - max: 255\n",
      " - mean R: tensor(-0.0823)\n",
      " - std R: tensor(1.0197)\n",
      " - var R: tensor(1.0397)\n",
      " - mean G: tensor(-0.0516)\n",
      " - std G: tensor(1.0043)\n",
      " - var G: tensor(1.0086)\n",
      " - mean B: tensor(0.0017)\n",
      " - std B: tensor(0.9948)\n",
      " - var B: tensor(0.9896)\n"
     ]
    }
   ],
   "source": [
    "dataiter = iter(train_loader)\n",
    "images, labels = next(dataiter)\n",
    "print('[Train]')\n",
    "print(' - Numpy Shape:', train_ds.data.shape)\n",
    "print(' - Tensor Shape:', images.size())\n",
    "print(' - min:', np.min(train_ds.data))\n",
    "print(' - max:', np.max(train_ds.data))\n",
    "print(' - mean R:', torch.mean(images[:, 0, :, :]))\n",
    "print(' - std R:', torch.std(images[:, 0, :, :]))\n",
    "print(' - var R:', torch.var(images[:, 0, :, :]))\n",
    "\n",
    "print(' - mean G:', torch.mean(images[:, 1, :, :]))\n",
    "print(' - std G:', torch.std(images[:, 1, :, :]))\n",
    "print(' - var G:', torch.var(images[:, 1, :, :]))\n",
    "\n",
    "print(' - mean B:', torch.mean(images[:, 2, :, :]))\n",
    "print(' - std B:', torch.std(images[:, 2, :, :]))\n",
    "print(' - var B:', torch.var(images[:, 2, :, :]))"
   ]
  },
  {
   "cell_type": "code",
   "execution_count": 5,
   "metadata": {
    "tags": []
   },
   "outputs": [
    {
     "name": "stderr",
     "output_type": "stream",
     "text": [
      "Clipping input data to the valid range for imshow with RGB data ([0..1] for floats or [0..255] for integers).\n"
     ]
    },
    {
     "data": {
      "image/png": "[encoded data removed]",
      "text/plain": [
       "<Figure size 640x480 with 1 Axes>"
      ]
     },
     "metadata": {},
     "output_type": "display_data"
    },
    {
     "name": "stdout",
     "output_type": "stream",
     "text": [
      "horse automobile automobile deer \n"
     ]
    }
   ],
   "source": [
    "# get some random training images\n",
    "import torchvision\n",
    "\n",
    "\n",
    "batch_size=4\n",
    "dataiter = iter(train_loader)\n",
    "classes = train_ds.classes\n",
    "images, labels = next(dataiter)\n",
    "sampled_images = images[0: batch_size]\n",
    "sampled_labels = labels[0: batch_size]\n",
    "\n",
    "# show images\n",
    "imshow(torchvision.utils.make_grid(sampled_images))\n",
    "# print labels\n",
    "print(' '.join(f'{classes[sampled_labels[j]]:5s}' for j in range(batch_size)))"
   ]
  },
  {
   "cell_type": "code",
   "execution_count": 6,
   "metadata": {
    "tags": []
   },
   "outputs": [
    {
     "name": "stderr",
     "output_type": "stream",
     "text": [
      "Clipping input data to the valid range for imshow with RGB data ([0..1] for floats or [0..255] for integers).\n"
     ]
    },
    {
     "data": {
      "image/png": "[encoded data removed]",
      "text/plain": [
       "<Figure size 640x480 with 1 Axes>"
      ]
     },
     "metadata": {},
     "output_type": "display_data"
    },
    {
     "name": "stdout",
     "output_type": "stream",
     "text": [
      "cat   frog  airplane bird \n"
     ]
    }
   ],
   "source": [
    "batch_size=4\n",
    "dataiter = iter(test_loader)\n",
    "classes = train_ds.classes\n",
    "images, labels = next(dataiter)\n",
    "sampled_images = images[0: batch_size]\n",
    "sampled_labels = labels[0: batch_size]\n",
    "\n",
    "# show images\n",
    "imshow(torchvision.utils.make_grid(sampled_images))\n",
    "# print labels\n",
    "print(' '.join(f'{classes[sampled_labels[j]]:5s}' for j in range(batch_size)))"
   ]
  },
  {
   "cell_type": "code",
   "execution_count": 7,
   "metadata": {
    "tags": []
   },
   "outputs": [
    {
     "name": "stdout",
     "output_type": "stream",
     "text": [
      "cuda\n",
      "----------------------------------------------------------------\n",
      "        Layer (type)               Output Shape         Param #\n",
      "================================================================\n",
      "            Conv2d-1            [-1, 3, 32, 32]              27\n",
      "              ReLU-2            [-1, 3, 32, 32]               0\n",
      "       BatchNorm2d-3            [-1, 3, 32, 32]               6\n",
      "           Dropout-4            [-1, 3, 32, 32]               0\n",
      "            Conv2d-5           [-1, 10, 32, 32]              30\n",
      "              ReLU-6           [-1, 10, 32, 32]               0\n",
      "       BatchNorm2d-7           [-1, 10, 32, 32]              20\n",
      "           Dropout-8           [-1, 10, 32, 32]               0\n",
      "            Conv2d-9           [-1, 10, 28, 28]             900\n",
      "             ReLU-10           [-1, 10, 28, 28]               0\n",
      "      BatchNorm2d-11           [-1, 10, 28, 28]              20\n",
      "          Dropout-12           [-1, 10, 28, 28]               0\n",
      "           Conv2d-13           [-1, 20, 28, 28]           1,800\n",
      "             ReLU-14           [-1, 20, 28, 28]               0\n",
      "      BatchNorm2d-15           [-1, 20, 28, 28]              40\n",
      "          Dropout-16           [-1, 20, 28, 28]               0\n",
      "           Conv2d-17           [-1, 20, 28, 28]           3,600\n",
      "             ReLU-18           [-1, 20, 28, 28]               0\n",
      "      BatchNorm2d-19           [-1, 20, 28, 28]              40\n",
      "          Dropout-20           [-1, 20, 28, 28]               0\n",
      "           Conv2d-21           [-1, 20, 14, 14]           3,600\n",
      "             ReLU-22           [-1, 20, 14, 14]               0\n",
      "      BatchNorm2d-23           [-1, 20, 14, 14]              40\n",
      "          Dropout-24           [-1, 20, 14, 14]               0\n",
      "           Conv2d-25           [-1, 40, 14, 14]           7,200\n",
      "             ReLU-26           [-1, 40, 14, 14]               0\n",
      "      BatchNorm2d-27           [-1, 40, 14, 14]              80\n",
      "          Dropout-28           [-1, 40, 14, 14]               0\n",
      "           Conv2d-29           [-1, 40, 14, 14]          14,400\n",
      "             ReLU-30           [-1, 40, 14, 14]               0\n",
      "      BatchNorm2d-31           [-1, 40, 14, 14]              80\n",
      "          Dropout-32           [-1, 40, 14, 14]               0\n",
      "           Conv2d-33             [-1, 40, 7, 7]          14,400\n",
      "             ReLU-34             [-1, 40, 7, 7]               0\n",
      "      BatchNorm2d-35             [-1, 40, 7, 7]              80\n",
      "          Dropout-36             [-1, 40, 7, 7]               0\n",
      "           Conv2d-37             [-1, 80, 7, 7]          28,800\n",
      "             ReLU-38             [-1, 80, 7, 7]               0\n",
      "      BatchNorm2d-39             [-1, 80, 7, 7]             160\n",
      "          Dropout-40             [-1, 80, 7, 7]               0\n",
      "           Conv2d-41             [-1, 80, 7, 7]          57,600\n",
      "             ReLU-42             [-1, 80, 7, 7]               0\n",
      "      BatchNorm2d-43             [-1, 80, 7, 7]             160\n",
      "          Dropout-44             [-1, 80, 7, 7]               0\n",
      "           Conv2d-45             [-1, 80, 3, 3]          57,600\n",
      "             ReLU-46             [-1, 80, 3, 3]               0\n",
      "      BatchNorm2d-47             [-1, 80, 3, 3]             160\n",
      "          Dropout-48             [-1, 80, 3, 3]               0\n",
      "        AvgPool2d-49             [-1, 80, 1, 1]               0\n",
      "           Conv2d-50             [-1, 10, 1, 1]             810\n",
      "================================================================\n",
      "Total params: 191,653\n",
      "Trainable params: 191,653\n",
      "Non-trainable params: 0\n",
      "----------------------------------------------------------------\n",
      "Input size (MB): 0.01\n",
      "Forward/backward pass size (MB): 2.52\n",
      "Params size (MB): 0.73\n",
      "Estimated Total Size (MB): 3.27\n",
      "----------------------------------------------------------------\n"
     ]
    }
   ],
   "source": [
    "# !pip install torchsummary\n",
    "use_cuda = torch.cuda.is_available()\n",
    "device = torch.device(\"cuda\" if use_cuda else \"cpu\")\n",
    "print(device)\n",
    "\n",
    "model = Net().to(device)\n",
    "summary(model, input_size=(3, 32, 32))"
   ]
  },
  {
   "cell_type": "code",
   "execution_count": 8,
   "metadata": {
    "tags": []
   },
   "outputs": [],
   "source": [
    "train_losses = []\n",
    "test_losses = []\n",
    "train_acc = []\n",
    "test_acc = []\n"
   ]
  },
  {
   "cell_type": "code",
   "execution_count": 9,
   "metadata": {
    "tags": []
   },
   "outputs": [
    {
     "name": "stdout",
     "output_type": "stream",
     "text": [
      "Adjusting learning rate of group 0 to 1.0000e-02.\n",
      "EPOCH: 0\n"
     ]
    },
    {
     "name": "stderr",
     "output_type": "stream",
     "text": [
      "Loss=1.6495164632797241 Batch_id=390 Accuracy=32.27: 100%|██████████| 391/391 [00:07<00:00, 53.25it/s]"
     ]
    },
    {
     "name": "stdout",
     "output_type": "stream",
     "text": [
      "Adjusting learning rate of group 0 to 9.9975e-03.\n"
     ]
    },
    {
     "name": "stderr",
     "output_type": "stream",
     "text": [
      "\n"
     ]
    },
    {
     "name": "stdout",
     "output_type": "stream",
     "text": [
      "\n",
      "Test set: Average loss: 1.5611, Accuracy: 4284/10000 (42.84%)\n",
      "\n",
      "EPOCH: 1\n"
     ]
    },
    {
     "name": "stderr",
     "output_type": "stream",
     "text": [
      "Loss=1.7074143886566162 Batch_id=390 Accuracy=41.13: 100%|██████████| 391/391 [00:06<00:00, 56.07it/s]"
     ]
    },
    {
     "name": "stdout",
     "output_type": "stream",
     "text": [
      "Adjusting learning rate of group 0 to 9.9901e-03.\n"
     ]
    },
    {
     "name": "stderr",
     "output_type": "stream",
     "text": [
      "\n"
     ]
    },
    {
     "name": "stdout",
     "output_type": "stream",
     "text": [
      "\n",
      "Test set: Average loss: 1.3442, Accuracy: 5162/10000 (51.62%)\n",
      "\n",
      "EPOCH: 2\n"
     ]
    },
    {
     "name": "stderr",
     "output_type": "stream",
     "text": [
      "Loss=1.2097843885421753 Batch_id=390 Accuracy=45.66: 100%|██████████| 391/391 [00:07<00:00, 55.63it/s]"
     ]
    },
    {
     "name": "stdout",
     "output_type": "stream",
     "text": [
      "Adjusting learning rate of group 0 to 9.9778e-03.\n"
     ]
    },
    {
     "name": "stderr",
     "output_type": "stream",
     "text": [
      "\n"
     ]
    },
    {
     "name": "stdout",
     "output_type": "stream",
     "text": [
      "\n",
      "Test set: Average loss: 1.2116, Accuracy: 5661/10000 (56.61%)\n",
      "\n",
      "EPOCH: 3\n"
     ]
    },
    {
     "name": "stderr",
     "output_type": "stream",
     "text": [
      "Loss=1.479993224143982 Batch_id=390 Accuracy=49.62: 100%|██████████| 391/391 [00:07<00:00, 54.81it/s] "
     ]
    },
    {
     "name": "stdout",
     "output_type": "stream",
     "text": [
      "Adjusting learning rate of group 0 to 9.9606e-03.\n"
     ]
    },
    {
     "name": "stderr",
     "output_type": "stream",
     "text": [
      "\n"
     ]
    },
    {
     "name": "stdout",
     "output_type": "stream",
     "text": [
      "\n",
      "Test set: Average loss: 1.1365, Accuracy: 5945/10000 (59.45%)\n",
      "\n",
      "EPOCH: 4\n"
     ]
    },
    {
     "name": "stderr",
     "output_type": "stream",
     "text": [
      "Loss=1.2315208911895752 Batch_id=390 Accuracy=52.38: 100%|██████████| 391/391 [00:07<00:00, 54.62it/s]"
     ]
    },
    {
     "name": "stdout",
     "output_type": "stream",
     "text": [
      "Adjusting learning rate of group 0 to 9.9384e-03.\n"
     ]
    },
    {
     "name": "stderr",
     "output_type": "stream",
     "text": [
      "\n"
     ]
    },
    {
     "name": "stdout",
     "output_type": "stream",
     "text": [
      "\n",
      "Test set: Average loss: 1.0611, Accuracy: 6340/10000 (63.40%)\n",
      "\n",
      "EPOCH: 5\n"
     ]
    },
    {
     "name": "stderr",
     "output_type": "stream",
     "text": [
      "Loss=1.1830356121063232 Batch_id=390 Accuracy=55.23: 100%|██████████| 391/391 [00:07<00:00, 54.42it/s]"
     ]
    },
    {
     "name": "stdout",
     "output_type": "stream",
     "text": [
      "Adjusting learning rate of group 0 to 9.9114e-03.\n"
     ]
    },
    {
     "name": "stderr",
     "output_type": "stream",
     "text": [
      "\n"
     ]
    },
    {
     "name": "stdout",
     "output_type": "stream",
     "text": [
      "\n",
      "Test set: Average loss: 1.0010, Accuracy: 6443/10000 (64.43%)\n",
      "\n",
      "EPOCH: 6\n"
     ]
    },
    {
     "name": "stderr",
     "output_type": "stream",
     "text": [
      "Loss=1.1451151371002197 Batch_id=390 Accuracy=56.88: 100%|██████████| 391/391 [00:07<00:00, 55.22it/s]"
     ]
    },
    {
     "name": "stdout",
     "output_type": "stream",
     "text": [
      "Adjusting learning rate of group 0 to 9.8796e-03.\n"
     ]
    },
    {
     "name": "stderr",
     "output_type": "stream",
     "text": [
      "\n"
     ]
    },
    {
     "name": "stdout",
     "output_type": "stream",
     "text": [
      "\n",
      "Test set: Average loss: 0.9845, Accuracy: 6566/10000 (65.66%)\n",
      "\n",
      "EPOCH: 7\n"
     ]
    },
    {
     "name": "stderr",
     "output_type": "stream",
     "text": [
      "Loss=1.3155739307403564 Batch_id=390 Accuracy=58.97: 100%|██████████| 391/391 [00:07<00:00, 54.59it/s]"
     ]
    },
    {
     "name": "stdout",
     "output_type": "stream",
     "text": [
      "Adjusting learning rate of group 0 to 9.8429e-03.\n"
     ]
    },
    {
     "name": "stderr",
     "output_type": "stream",
     "text": [
      "\n"
     ]
    },
    {
     "name": "stdout",
     "output_type": "stream",
     "text": [
      "\n",
      "Test set: Average loss: 0.8898, Accuracy: 6899/10000 (68.99%)\n",
      "\n",
      "EPOCH: 8\n"
     ]
    },
    {
     "name": "stderr",
     "output_type": "stream",
     "text": [
      "Loss=1.174446702003479 Batch_id=390 Accuracy=60.22: 100%|██████████| 391/391 [00:07<00:00, 53.85it/s] "
     ]
    },
    {
     "name": "stdout",
     "output_type": "stream",
     "text": [
      "Adjusting learning rate of group 0 to 9.8015e-03.\n"
     ]
    },
    {
     "name": "stderr",
     "output_type": "stream",
     "text": [
      "\n"
     ]
    },
    {
     "name": "stdout",
     "output_type": "stream",
     "text": [
      "\n",
      "Test set: Average loss: 0.8469, Accuracy: 7112/10000 (71.12%)\n",
      "\n",
      "EPOCH: 9\n"
     ]
    },
    {
     "name": "stderr",
     "output_type": "stream",
     "text": [
      "Loss=1.1017210483551025 Batch_id=390 Accuracy=61.34: 100%|██████████| 391/391 [00:07<00:00, 54.69it/s]"
     ]
    },
    {
     "name": "stdout",
     "output_type": "stream",
     "text": [
      "Adjusting learning rate of group 0 to 9.7553e-03.\n"
     ]
    },
    {
     "name": "stderr",
     "output_type": "stream",
     "text": [
      "\n"
     ]
    },
    {
     "name": "stdout",
     "output_type": "stream",
     "text": [
      "\n",
      "Test set: Average loss: 0.8280, Accuracy: 7221/10000 (72.21%)\n",
      "\n",
      "EPOCH: 10\n"
     ]
    },
    {
     "name": "stderr",
     "output_type": "stream",
     "text": [
      "Loss=1.0981327295303345 Batch_id=390 Accuracy=62.57: 100%|██████████| 391/391 [00:07<00:00, 53.68it/s]"
     ]
    },
    {
     "name": "stdout",
     "output_type": "stream",
     "text": [
      "Adjusting learning rate of group 0 to 9.7044e-03.\n"
     ]
    },
    {
     "name": "stderr",
     "output_type": "stream",
     "text": [
      "\n"
     ]
    },
    {
     "name": "stdout",
     "output_type": "stream",
     "text": [
      "\n",
      "Test set: Average loss: 0.7698, Accuracy: 7344/10000 (73.44%)\n",
      "\n",
      "EPOCH: 11\n"
     ]
    },
    {
     "name": "stderr",
     "output_type": "stream",
     "text": [
      "Loss=1.1522186994552612 Batch_id=390 Accuracy=63.01: 100%|██████████| 391/391 [00:07<00:00, 53.12it/s]"
     ]
    },
    {
     "name": "stdout",
     "output_type": "stream",
     "text": [
      "Adjusting learning rate of group 0 to 9.6489e-03.\n"
     ]
    },
    {
     "name": "stderr",
     "output_type": "stream",
     "text": [
      "\n"
     ]
    },
    {
     "name": "stdout",
     "output_type": "stream",
     "text": [
      "\n",
      "Test set: Average loss: 0.7749, Accuracy: 7346/10000 (73.46%)\n",
      "\n",
      "EPOCH: 12\n"
     ]
    },
    {
     "name": "stderr",
     "output_type": "stream",
     "text": [
      "Loss=1.0087916851043701 Batch_id=390 Accuracy=64.07: 100%|██████████| 391/391 [00:07<00:00, 54.01it/s]"
     ]
    },
    {
     "name": "stdout",
     "output_type": "stream",
     "text": [
      "Adjusting learning rate of group 0 to 9.5888e-03.\n"
     ]
    },
    {
     "name": "stderr",
     "output_type": "stream",
     "text": [
      "\n"
     ]
    },
    {
     "name": "stdout",
     "output_type": "stream",
     "text": [
      "\n",
      "Test set: Average loss: 0.7605, Accuracy: 7334/10000 (73.34%)\n",
      "\n",
      "EPOCH: 13\n"
     ]
    },
    {
     "name": "stderr",
     "output_type": "stream",
     "text": [
      "Loss=1.0103617906570435 Batch_id=390 Accuracy=64.53: 100%|██████████| 391/391 [00:07<00:00, 53.63it/s]"
     ]
    },
    {
     "name": "stdout",
     "output_type": "stream",
     "text": [
      "Adjusting learning rate of group 0 to 9.5241e-03.\n"
     ]
    },
    {
     "name": "stderr",
     "output_type": "stream",
     "text": [
      "\n"
     ]
    },
    {
     "name": "stdout",
     "output_type": "stream",
     "text": [
      "\n",
      "Test set: Average loss: 0.7162, Accuracy: 7514/10000 (75.14%)\n",
      "\n",
      "EPOCH: 14\n"
     ]
    },
    {
     "name": "stderr",
     "output_type": "stream",
     "text": [
      "Loss=0.9927427172660828 Batch_id=390 Accuracy=65.51: 100%|██████████| 391/391 [00:07<00:00, 51.23it/s]"
     ]
    },
    {
     "name": "stdout",
     "output_type": "stream",
     "text": [
      "Adjusting learning rate of group 0 to 9.4550e-03.\n"
     ]
    },
    {
     "name": "stderr",
     "output_type": "stream",
     "text": [
      "\n"
     ]
    },
    {
     "name": "stdout",
     "output_type": "stream",
     "text": [
      "\n",
      "Test set: Average loss: 0.7092, Accuracy: 7539/10000 (75.39%)\n",
      "\n",
      "EPOCH: 15\n"
     ]
    },
    {
     "name": "stderr",
     "output_type": "stream",
     "text": [
      "Loss=1.0010308027267456 Batch_id=390 Accuracy=66.07: 100%|██████████| 391/391 [00:07<00:00, 54.32it/s]"
     ]
    },
    {
     "name": "stdout",
     "output_type": "stream",
     "text": [
      "Adjusting learning rate of group 0 to 9.3815e-03.\n"
     ]
    },
    {
     "name": "stderr",
     "output_type": "stream",
     "text": [
      "\n"
     ]
    },
    {
     "name": "stdout",
     "output_type": "stream",
     "text": [
      "\n",
      "Test set: Average loss: 0.6744, Accuracy: 7685/10000 (76.85%)\n",
      "\n",
      "EPOCH: 16\n"
     ]
    },
    {
     "name": "stderr",
     "output_type": "stream",
     "text": [
      "Loss=1.1703746318817139 Batch_id=390 Accuracy=66.31: 100%|██████████| 391/391 [00:07<00:00, 53.62it/s]"
     ]
    },
    {
     "name": "stdout",
     "output_type": "stream",
     "text": [
      "Adjusting learning rate of group 0 to 9.3037e-03.\n"
     ]
    },
    {
     "name": "stderr",
     "output_type": "stream",
     "text": [
      "\n"
     ]
    },
    {
     "name": "stdout",
     "output_type": "stream",
     "text": [
      "\n",
      "Test set: Average loss: 0.7080, Accuracy: 7535/10000 (75.35%)\n",
      "\n",
      "EPOCH: 17\n"
     ]
    },
    {
     "name": "stderr",
     "output_type": "stream",
     "text": [
      "Loss=0.8820401430130005 Batch_id=390 Accuracy=67.08: 100%|██████████| 391/391 [00:07<00:00, 54.22it/s]"
     ]
    },
    {
     "name": "stdout",
     "output_type": "stream",
     "text": [
      "Adjusting learning rate of group 0 to 9.2216e-03.\n"
     ]
    },
    {
     "name": "stderr",
     "output_type": "stream",
     "text": [
      "\n"
     ]
    },
    {
     "name": "stdout",
     "output_type": "stream",
     "text": [
      "\n",
      "Test set: Average loss: 0.6474, Accuracy: 7766/10000 (77.66%)\n",
      "\n",
      "EPOCH: 18\n"
     ]
    },
    {
     "name": "stderr",
     "output_type": "stream",
     "text": [
      "Loss=0.8942304849624634 Batch_id=390 Accuracy=67.58: 100%|██████████| 391/391 [00:07<00:00, 54.50it/s]"
     ]
    },
    {
     "name": "stdout",
     "output_type": "stream",
     "text": [
      "Adjusting learning rate of group 0 to 9.1354e-03.\n"
     ]
    },
    {
     "name": "stderr",
     "output_type": "stream",
     "text": [
      "\n"
     ]
    },
    {
     "name": "stdout",
     "output_type": "stream",
     "text": [
      "\n",
      "Test set: Average loss: 0.6600, Accuracy: 7732/10000 (77.32%)\n",
      "\n",
      "EPOCH: 19\n"
     ]
    },
    {
     "name": "stderr",
     "output_type": "stream",
     "text": [
      "Loss=0.8493603467941284 Batch_id=390 Accuracy=67.73: 100%|██████████| 391/391 [00:07<00:00, 51.90it/s]"
     ]
    },
    {
     "name": "stdout",
     "output_type": "stream",
     "text": [
      "Adjusting learning rate of group 0 to 9.0451e-03.\n"
     ]
    },
    {
     "name": "stderr",
     "output_type": "stream",
     "text": [
      "\n"
     ]
    },
    {
     "name": "stdout",
     "output_type": "stream",
     "text": [
      "\n",
      "Test set: Average loss: 0.6280, Accuracy: 7820/10000 (78.20%)\n",
      "\n",
      "EPOCH: 20\n"
     ]
    },
    {
     "name": "stderr",
     "output_type": "stream",
     "text": [
      "Loss=0.8857865333557129 Batch_id=390 Accuracy=68.62: 100%|██████████| 391/391 [00:07<00:00, 53.37it/s]"
     ]
    },
    {
     "name": "stdout",
     "output_type": "stream",
     "text": [
      "Adjusting learning rate of group 0 to 8.9508e-03.\n"
     ]
    },
    {
     "name": "stderr",
     "output_type": "stream",
     "text": [
      "\n"
     ]
    },
    {
     "name": "stdout",
     "output_type": "stream",
     "text": [
      "\n",
      "Test set: Average loss: 0.6193, Accuracy: 7806/10000 (78.06%)\n",
      "\n",
      "EPOCH: 21\n"
     ]
    },
    {
     "name": "stderr",
     "output_type": "stream",
     "text": [
      "Loss=0.9115622639656067 Batch_id=390 Accuracy=68.74: 100%|██████████| 391/391 [00:07<00:00, 54.59it/s]"
     ]
    },
    {
     "name": "stdout",
     "output_type": "stream",
     "text": [
      "Adjusting learning rate of group 0 to 8.8526e-03.\n"
     ]
    },
    {
     "name": "stderr",
     "output_type": "stream",
     "text": [
      "\n"
     ]
    },
    {
     "name": "stdout",
     "output_type": "stream",
     "text": [
      "\n",
      "Test set: Average loss: 0.6440, Accuracy: 7793/10000 (77.93%)\n",
      "\n",
      "EPOCH: 22\n"
     ]
    },
    {
     "name": "stderr",
     "output_type": "stream",
     "text": [
      "Loss=0.7237640619277954 Batch_id=390 Accuracy=69.15: 100%|██████████| 391/391 [00:07<00:00, 53.64it/s]"
     ]
    },
    {
     "name": "stdout",
     "output_type": "stream",
     "text": [
      "Adjusting learning rate of group 0 to 8.7506e-03.\n"
     ]
    },
    {
     "name": "stderr",
     "output_type": "stream",
     "text": [
      "\n"
     ]
    },
    {
     "name": "stdout",
     "output_type": "stream",
     "text": [
      "\n",
      "Test set: Average loss: 0.6018, Accuracy: 7912/10000 (79.12%)\n",
      "\n",
      "EPOCH: 23\n"
     ]
    },
    {
     "name": "stderr",
     "output_type": "stream",
     "text": [
      "Loss=0.9945931434631348 Batch_id=390 Accuracy=69.35: 100%|██████████| 391/391 [00:07<00:00, 55.05it/s]"
     ]
    },
    {
     "name": "stdout",
     "output_type": "stream",
     "text": [
      "Adjusting learning rate of group 0 to 8.6448e-03.\n"
     ]
    },
    {
     "name": "stderr",
     "output_type": "stream",
     "text": [
      "\n"
     ]
    },
    {
     "name": "stdout",
     "output_type": "stream",
     "text": [
      "\n",
      "Test set: Average loss: 0.5995, Accuracy: 7942/10000 (79.42%)\n",
      "\n",
      "EPOCH: 24\n"
     ]
    },
    {
     "name": "stderr",
     "output_type": "stream",
     "text": [
      "Loss=1.043685793876648 Batch_id=390 Accuracy=69.84: 100%|██████████| 391/391 [00:07<00:00, 54.79it/s] "
     ]
    },
    {
     "name": "stdout",
     "output_type": "stream",
     "text": [
      "Adjusting learning rate of group 0 to 8.5355e-03.\n"
     ]
    },
    {
     "name": "stderr",
     "output_type": "stream",
     "text": [
      "\n"
     ]
    },
    {
     "name": "stdout",
     "output_type": "stream",
     "text": [
      "\n",
      "Test set: Average loss: 0.5788, Accuracy: 8021/10000 (80.21%)\n",
      "\n",
      "EPOCH: 25\n"
     ]
    },
    {
     "name": "stderr",
     "output_type": "stream",
     "text": [
      "Loss=1.1027578115463257 Batch_id=390 Accuracy=69.80: 100%|██████████| 391/391 [00:07<00:00, 55.40it/s]"
     ]
    },
    {
     "name": "stdout",
     "output_type": "stream",
     "text": [
      "Adjusting learning rate of group 0 to 8.4227e-03.\n"
     ]
    },
    {
     "name": "stderr",
     "output_type": "stream",
     "text": [
      "\n"
     ]
    },
    {
     "name": "stdout",
     "output_type": "stream",
     "text": [
      "\n",
      "Test set: Average loss: 0.6099, Accuracy: 7940/10000 (79.40%)\n",
      "\n",
      "EPOCH: 26\n"
     ]
    },
    {
     "name": "stderr",
     "output_type": "stream",
     "text": [
      "Loss=0.7640049457550049 Batch_id=390 Accuracy=70.02: 100%|██████████| 391/391 [00:07<00:00, 53.70it/s]"
     ]
    },
    {
     "name": "stdout",
     "output_type": "stream",
     "text": [
      "Adjusting learning rate of group 0 to 8.3066e-03.\n"
     ]
    },
    {
     "name": "stderr",
     "output_type": "stream",
     "text": [
      "\n"
     ]
    },
    {
     "name": "stdout",
     "output_type": "stream",
     "text": [
      "\n",
      "Test set: Average loss: 0.5575, Accuracy: 8095/10000 (80.95%)\n",
      "\n",
      "EPOCH: 27\n"
     ]
    },
    {
     "name": "stderr",
     "output_type": "stream",
     "text": [
      "Loss=0.6393365263938904 Batch_id=390 Accuracy=70.66: 100%|██████████| 391/391 [00:07<00:00, 52.63it/s]\n"
     ]
    },
    {
     "name": "stdout",
     "output_type": "stream",
     "text": [
      "Adjusting learning rate of group 0 to 8.1871e-03.\n",
      "\n",
      "Test set: Average loss: 0.5776, Accuracy: 8001/10000 (80.01%)\n",
      "\n",
      "EPOCH: 28\n"
     ]
    },
    {
     "name": "stderr",
     "output_type": "stream",
     "text": [
      "Loss=0.974582850933075 Batch_id=390 Accuracy=70.86: 100%|██████████| 391/391 [00:07<00:00, 54.30it/s] "
     ]
    },
    {
     "name": "stdout",
     "output_type": "stream",
     "text": [
      "Adjusting learning rate of group 0 to 8.0645e-03.\n"
     ]
    },
    {
     "name": "stderr",
     "output_type": "stream",
     "text": [
      "\n"
     ]
    },
    {
     "name": "stdout",
     "output_type": "stream",
     "text": [
      "\n",
      "Test set: Average loss: 0.5634, Accuracy: 8048/10000 (80.48%)\n",
      "\n",
      "EPOCH: 29\n"
     ]
    },
    {
     "name": "stderr",
     "output_type": "stream",
     "text": [
      "Loss=0.6809231638908386 Batch_id=390 Accuracy=70.96: 100%|██████████| 391/391 [00:07<00:00, 53.88it/s]"
     ]
    },
    {
     "name": "stdout",
     "output_type": "stream",
     "text": [
      "Adjusting learning rate of group 0 to 7.9389e-03.\n"
     ]
    },
    {
     "name": "stderr",
     "output_type": "stream",
     "text": [
      "\n"
     ]
    },
    {
     "name": "stdout",
     "output_type": "stream",
     "text": [
      "\n",
      "Test set: Average loss: 0.5601, Accuracy: 8087/10000 (80.87%)\n",
      "\n",
      "EPOCH: 30\n"
     ]
    },
    {
     "name": "stderr",
     "output_type": "stream",
     "text": [
      "Loss=0.8651199340820312 Batch_id=390 Accuracy=71.08: 100%|██████████| 391/391 [00:07<00:00, 54.15it/s]\n"
     ]
    },
    {
     "name": "stdout",
     "output_type": "stream",
     "text": [
      "Adjusting learning rate of group 0 to 7.8104e-03.\n",
      "\n",
      "Test set: Average loss: 0.5778, Accuracy: 8018/10000 (80.18%)\n",
      "\n",
      "EPOCH: 31\n"
     ]
    },
    {
     "name": "stderr",
     "output_type": "stream",
     "text": [
      "Loss=1.077627182006836 Batch_id=390 Accuracy=71.69: 100%|██████████| 391/391 [00:07<00:00, 54.67it/s] "
     ]
    },
    {
     "name": "stdout",
     "output_type": "stream",
     "text": [
      "Adjusting learning rate of group 0 to 7.6791e-03.\n"
     ]
    },
    {
     "name": "stderr",
     "output_type": "stream",
     "text": [
      "\n"
     ]
    },
    {
     "name": "stdout",
     "output_type": "stream",
     "text": [
      "\n",
      "Test set: Average loss: 0.5488, Accuracy: 8104/10000 (81.04%)\n",
      "\n",
      "EPOCH: 32\n"
     ]
    },
    {
     "name": "stderr",
     "output_type": "stream",
     "text": [
      "Loss=0.6154687404632568 Batch_id=390 Accuracy=71.55: 100%|██████████| 391/391 [00:07<00:00, 54.77it/s]"
     ]
    },
    {
     "name": "stdout",
     "output_type": "stream",
     "text": [
      "Adjusting learning rate of group 0 to 7.5452e-03.\n"
     ]
    },
    {
     "name": "stderr",
     "output_type": "stream",
     "text": [
      "\n"
     ]
    },
    {
     "name": "stdout",
     "output_type": "stream",
     "text": [
      "\n",
      "Test set: Average loss: 0.5321, Accuracy: 8188/10000 (81.88%)\n",
      "\n",
      "EPOCH: 33\n"
     ]
    },
    {
     "name": "stderr",
     "output_type": "stream",
     "text": [
      "Loss=0.920291543006897 Batch_id=390 Accuracy=72.24: 100%|██████████| 391/391 [00:07<00:00, 54.90it/s] \n"
     ]
    },
    {
     "name": "stdout",
     "output_type": "stream",
     "text": [
      "Adjusting learning rate of group 0 to 7.4088e-03.\n",
      "\n",
      "Test set: Average loss: 0.5439, Accuracy: 8128/10000 (81.28%)\n",
      "\n",
      "EPOCH: 34\n"
     ]
    },
    {
     "name": "stderr",
     "output_type": "stream",
     "text": [
      "Loss=0.9273964762687683 Batch_id=390 Accuracy=71.99: 100%|██████████| 391/391 [00:07<00:00, 52.73it/s]"
     ]
    },
    {
     "name": "stdout",
     "output_type": "stream",
     "text": [
      "Adjusting learning rate of group 0 to 7.2700e-03.\n"
     ]
    },
    {
     "name": "stderr",
     "output_type": "stream",
     "text": [
      "\n"
     ]
    },
    {
     "name": "stdout",
     "output_type": "stream",
     "text": [
      "\n",
      "Test set: Average loss: 0.5410, Accuracy: 8164/10000 (81.64%)\n",
      "\n",
      "EPOCH: 35\n"
     ]
    },
    {
     "name": "stderr",
     "output_type": "stream",
     "text": [
      "Loss=0.7916900515556335 Batch_id=390 Accuracy=71.80: 100%|██████████| 391/391 [00:07<00:00, 53.33it/s]"
     ]
    },
    {
     "name": "stdout",
     "output_type": "stream",
     "text": [
      "Adjusting learning rate of group 0 to 7.1289e-03.\n"
     ]
    },
    {
     "name": "stderr",
     "output_type": "stream",
     "text": [
      "\n"
     ]
    },
    {
     "name": "stdout",
     "output_type": "stream",
     "text": [
      "\n",
      "Test set: Average loss: 0.5300, Accuracy: 8213/10000 (82.13%)\n",
      "\n",
      "EPOCH: 36\n"
     ]
    },
    {
     "name": "stderr",
     "output_type": "stream",
     "text": [
      "Loss=0.9281024932861328 Batch_id=390 Accuracy=72.49: 100%|██████████| 391/391 [00:07<00:00, 54.42it/s]"
     ]
    },
    {
     "name": "stdout",
     "output_type": "stream",
     "text": [
      "Adjusting learning rate of group 0 to 6.9857e-03.\n"
     ]
    },
    {
     "name": "stderr",
     "output_type": "stream",
     "text": [
      "\n"
     ]
    },
    {
     "name": "stdout",
     "output_type": "stream",
     "text": [
      "\n",
      "Test set: Average loss: 0.5215, Accuracy: 8234/10000 (82.34%)\n",
      "\n",
      "EPOCH: 37\n"
     ]
    },
    {
     "name": "stderr",
     "output_type": "stream",
     "text": [
      "Loss=0.6873153448104858 Batch_id=390 Accuracy=72.62: 100%|██████████| 391/391 [00:07<00:00, 53.78it/s]"
     ]
    },
    {
     "name": "stdout",
     "output_type": "stream",
     "text": [
      "Adjusting learning rate of group 0 to 6.8406e-03.\n"
     ]
    },
    {
     "name": "stderr",
     "output_type": "stream",
     "text": [
      "\n"
     ]
    },
    {
     "name": "stdout",
     "output_type": "stream",
     "text": [
      "\n",
      "Test set: Average loss: 0.5344, Accuracy: 8200/10000 (82.00%)\n",
      "\n",
      "EPOCH: 38\n"
     ]
    },
    {
     "name": "stderr",
     "output_type": "stream",
     "text": [
      "Loss=0.7948567867279053 Batch_id=390 Accuracy=72.98: 100%|██████████| 391/391 [00:07<00:00, 54.26it/s]\n"
     ]
    },
    {
     "name": "stdout",
     "output_type": "stream",
     "text": [
      "Adjusting learning rate of group 0 to 6.6937e-03.\n",
      "\n",
      "Test set: Average loss: 0.5098, Accuracy: 8255/10000 (82.55%)\n",
      "\n",
      "EPOCH: 39\n"
     ]
    },
    {
     "name": "stderr",
     "output_type": "stream",
     "text": [
      "Loss=0.8048678636550903 Batch_id=390 Accuracy=72.77: 100%|██████████| 391/391 [00:07<00:00, 53.50it/s]"
     ]
    },
    {
     "name": "stdout",
     "output_type": "stream",
     "text": [
      "Adjusting learning rate of group 0 to 6.5451e-03.\n"
     ]
    },
    {
     "name": "stderr",
     "output_type": "stream",
     "text": [
      "\n"
     ]
    },
    {
     "name": "stdout",
     "output_type": "stream",
     "text": [
      "\n",
      "Test set: Average loss: 0.5108, Accuracy: 8249/10000 (82.49%)\n",
      "\n",
      "EPOCH: 40\n"
     ]
    },
    {
     "name": "stderr",
     "output_type": "stream",
     "text": [
      "Loss=0.7649175524711609 Batch_id=390 Accuracy=73.44: 100%|██████████| 391/391 [00:07<00:00, 53.88it/s]"
     ]
    },
    {
     "name": "stdout",
     "output_type": "stream",
     "text": [
      "Adjusting learning rate of group 0 to 6.3950e-03.\n"
     ]
    },
    {
     "name": "stderr",
     "output_type": "stream",
     "text": [
      "\n"
     ]
    },
    {
     "name": "stdout",
     "output_type": "stream",
     "text": [
      "\n",
      "Test set: Average loss: 0.5030, Accuracy: 8313/10000 (83.13%)\n",
      "\n",
      "EPOCH: 41\n"
     ]
    },
    {
     "name": "stderr",
     "output_type": "stream",
     "text": [
      "Loss=0.642551839351654 Batch_id=390 Accuracy=73.38: 100%|██████████| 391/391 [00:07<00:00, 52.79it/s] "
     ]
    },
    {
     "name": "stdout",
     "output_type": "stream",
     "text": [
      "Adjusting learning rate of group 0 to 6.2434e-03.\n"
     ]
    },
    {
     "name": "stderr",
     "output_type": "stream",
     "text": [
      "\n"
     ]
    },
    {
     "name": "stdout",
     "output_type": "stream",
     "text": [
      "\n",
      "Test set: Average loss: 0.5306, Accuracy: 8211/10000 (82.11%)\n",
      "\n",
      "EPOCH: 42\n"
     ]
    },
    {
     "name": "stderr",
     "output_type": "stream",
     "text": [
      "Loss=0.890531063079834 Batch_id=390 Accuracy=73.15: 100%|██████████| 391/391 [00:07<00:00, 54.77it/s] \n"
     ]
    },
    {
     "name": "stdout",
     "output_type": "stream",
     "text": [
      "Adjusting learning rate of group 0 to 6.0907e-03.\n",
      "\n",
      "Test set: Average loss: 0.5071, Accuracy: 8297/10000 (82.97%)\n",
      "\n",
      "EPOCH: 43\n"
     ]
    },
    {
     "name": "stderr",
     "output_type": "stream",
     "text": [
      "Loss=0.8338201642036438 Batch_id=390 Accuracy=73.28: 100%|██████████| 391/391 [00:07<00:00, 54.49it/s]\n"
     ]
    },
    {
     "name": "stdout",
     "output_type": "stream",
     "text": [
      "Adjusting learning rate of group 0 to 5.9369e-03.\n",
      "\n",
      "Test set: Average loss: 0.5020, Accuracy: 8296/10000 (82.96%)\n",
      "\n",
      "EPOCH: 44\n"
     ]
    },
    {
     "name": "stderr",
     "output_type": "stream",
     "text": [
      "Loss=0.9078485369682312 Batch_id=390 Accuracy=73.84: 100%|██████████| 391/391 [00:07<00:00, 53.31it/s]"
     ]
    },
    {
     "name": "stdout",
     "output_type": "stream",
     "text": [
      "Adjusting learning rate of group 0 to 5.7822e-03.\n"
     ]
    },
    {
     "name": "stderr",
     "output_type": "stream",
     "text": [
      "\n"
     ]
    },
    {
     "name": "stdout",
     "output_type": "stream",
     "text": [
      "\n",
      "Test set: Average loss: 0.5100, Accuracy: 8277/10000 (82.77%)\n",
      "\n",
      "EPOCH: 45\n"
     ]
    },
    {
     "name": "stderr",
     "output_type": "stream",
     "text": [
      "Loss=0.9344244003295898 Batch_id=390 Accuracy=74.11: 100%|██████████| 391/391 [00:07<00:00, 54.97it/s]\n"
     ]
    },
    {
     "name": "stdout",
     "output_type": "stream",
     "text": [
      "Adjusting learning rate of group 0 to 5.6267e-03.\n",
      "\n",
      "Test set: Average loss: 0.4978, Accuracy: 8289/10000 (82.89%)\n",
      "\n",
      "EPOCH: 46\n"
     ]
    },
    {
     "name": "stderr",
     "output_type": "stream",
     "text": [
      "Loss=0.6016795039176941 Batch_id=390 Accuracy=74.13: 100%|██████████| 391/391 [00:07<00:00, 54.67it/s]"
     ]
    },
    {
     "name": "stdout",
     "output_type": "stream",
     "text": [
      "Adjusting learning rate of group 0 to 5.4705e-03.\n"
     ]
    },
    {
     "name": "stderr",
     "output_type": "stream",
     "text": [
      "\n"
     ]
    },
    {
     "name": "stdout",
     "output_type": "stream",
     "text": [
      "\n",
      "Test set: Average loss: 0.4902, Accuracy: 8339/10000 (83.39%)\n",
      "\n",
      "EPOCH: 47\n"
     ]
    },
    {
     "name": "stderr",
     "output_type": "stream",
     "text": [
      "Loss=0.7154718637466431 Batch_id=390 Accuracy=74.35: 100%|██████████| 391/391 [00:07<00:00, 54.50it/s] "
     ]
    },
    {
     "name": "stdout",
     "output_type": "stream",
     "text": [
      "Adjusting learning rate of group 0 to 5.3140e-03.\n"
     ]
    },
    {
     "name": "stderr",
     "output_type": "stream",
     "text": [
      "\n"
     ]
    },
    {
     "name": "stdout",
     "output_type": "stream",
     "text": [
      "\n",
      "Test set: Average loss: 0.4794, Accuracy: 8396/10000 (83.96%)\n",
      "\n",
      "EPOCH: 48\n"
     ]
    },
    {
     "name": "stderr",
     "output_type": "stream",
     "text": [
      "Loss=0.8531876802444458 Batch_id=390 Accuracy=74.63: 100%|██████████| 391/391 [00:07<00:00, 55.26it/s]"
     ]
    },
    {
     "name": "stdout",
     "output_type": "stream",
     "text": [
      "Adjusting learning rate of group 0 to 5.1571e-03.\n"
     ]
    },
    {
     "name": "stderr",
     "output_type": "stream",
     "text": [
      "\n"
     ]
    },
    {
     "name": "stdout",
     "output_type": "stream",
     "text": [
      "\n",
      "Test set: Average loss: 0.4857, Accuracy: 8359/10000 (83.59%)\n",
      "\n",
      "EPOCH: 49\n"
     ]
    },
    {
     "name": "stderr",
     "output_type": "stream",
     "text": [
      "Loss=0.6314316987991333 Batch_id=390 Accuracy=74.60: 100%|██████████| 391/391 [00:07<00:00, 53.28it/s]"
     ]
    },
    {
     "name": "stdout",
     "output_type": "stream",
     "text": [
      "Adjusting learning rate of group 0 to 5.0000e-03.\n"
     ]
    },
    {
     "name": "stderr",
     "output_type": "stream",
     "text": [
      "\n"
     ]
    },
    {
     "name": "stdout",
     "output_type": "stream",
     "text": [
      "\n",
      "Test set: Average loss: 0.4855, Accuracy: 8346/10000 (83.46%)\n",
      "\n",
      "EPOCH: 50\n"
     ]
    },
    {
     "name": "stderr",
     "output_type": "stream",
     "text": [
      "Loss=0.6910220384597778 Batch_id=390 Accuracy=74.83: 100%|██████████| 391/391 [00:07<00:00, 54.04it/s]"
     ]
    },
    {
     "name": "stdout",
     "output_type": "stream",
     "text": [
      "Adjusting learning rate of group 0 to 4.8429e-03.\n"
     ]
    },
    {
     "name": "stderr",
     "output_type": "stream",
     "text": [
      "\n"
     ]
    },
    {
     "name": "stdout",
     "output_type": "stream",
     "text": [
      "\n",
      "Test set: Average loss: 0.4862, Accuracy: 8353/10000 (83.53%)\n",
      "\n",
      "EPOCH: 51\n"
     ]
    },
    {
     "name": "stderr",
     "output_type": "stream",
     "text": [
      "Loss=0.7505550384521484 Batch_id=390 Accuracy=75.00: 100%|██████████| 391/391 [00:07<00:00, 53.59it/s]"
     ]
    },
    {
     "name": "stdout",
     "output_type": "stream",
     "text": [
      "Adjusting learning rate of group 0 to 4.6860e-03.\n"
     ]
    },
    {
     "name": "stderr",
     "output_type": "stream",
     "text": [
      "\n"
     ]
    },
    {
     "name": "stdout",
     "output_type": "stream",
     "text": [
      "\n",
      "Test set: Average loss: 0.4791, Accuracy: 8395/10000 (83.95%)\n",
      "\n",
      "EPOCH: 52\n"
     ]
    },
    {
     "name": "stderr",
     "output_type": "stream",
     "text": [
      "Loss=0.7670813798904419 Batch_id=390 Accuracy=75.24: 100%|██████████| 391/391 [00:07<00:00, 53.50it/s] "
     ]
    },
    {
     "name": "stdout",
     "output_type": "stream",
     "text": [
      "Adjusting learning rate of group 0 to 4.5295e-03.\n"
     ]
    },
    {
     "name": "stderr",
     "output_type": "stream",
     "text": [
      "\n"
     ]
    },
    {
     "name": "stdout",
     "output_type": "stream",
     "text": [
      "\n",
      "Test set: Average loss: 0.4720, Accuracy: 8396/10000 (83.96%)\n",
      "\n",
      "EPOCH: 53\n"
     ]
    },
    {
     "name": "stderr",
     "output_type": "stream",
     "text": [
      "Loss=0.7009052038192749 Batch_id=390 Accuracy=75.27: 100%|██████████| 391/391 [00:07<00:00, 52.65it/s] "
     ]
    },
    {
     "name": "stdout",
     "output_type": "stream",
     "text": [
      "Adjusting learning rate of group 0 to 4.3733e-03.\n"
     ]
    },
    {
     "name": "stderr",
     "output_type": "stream",
     "text": [
      "\n"
     ]
    },
    {
     "name": "stdout",
     "output_type": "stream",
     "text": [
      "\n",
      "Test set: Average loss: 0.4788, Accuracy: 8381/10000 (83.81%)\n",
      "\n",
      "EPOCH: 54\n"
     ]
    },
    {
     "name": "stderr",
     "output_type": "stream",
     "text": [
      "Loss=0.6089791655540466 Batch_id=390 Accuracy=75.26: 100%|██████████| 391/391 [00:07<00:00, 52.60it/s]"
     ]
    },
    {
     "name": "stdout",
     "output_type": "stream",
     "text": [
      "Adjusting learning rate of group 0 to 4.2178e-03.\n"
     ]
    },
    {
     "name": "stderr",
     "output_type": "stream",
     "text": [
      "\n"
     ]
    },
    {
     "name": "stdout",
     "output_type": "stream",
     "text": [
      "\n",
      "Test set: Average loss: 0.4793, Accuracy: 8390/10000 (83.90%)\n",
      "\n",
      "EPOCH: 55\n"
     ]
    },
    {
     "name": "stderr",
     "output_type": "stream",
     "text": [
      "Loss=0.7072535157203674 Batch_id=390 Accuracy=75.33: 100%|██████████| 391/391 [00:07<00:00, 54.24it/s]"
     ]
    },
    {
     "name": "stdout",
     "output_type": "stream",
     "text": [
      "Adjusting learning rate of group 0 to 4.0631e-03.\n"
     ]
    },
    {
     "name": "stderr",
     "output_type": "stream",
     "text": [
      "\n"
     ]
    },
    {
     "name": "stdout",
     "output_type": "stream",
     "text": [
      "\n",
      "Test set: Average loss: 0.4639, Accuracy: 8404/10000 (84.04%)\n",
      "\n",
      "EPOCH: 56\n"
     ]
    },
    {
     "name": "stderr",
     "output_type": "stream",
     "text": [
      "Loss=0.9707894325256348 Batch_id=390 Accuracy=75.82: 100%|██████████| 391/391 [00:07<00:00, 52.46it/s] "
     ]
    },
    {
     "name": "stdout",
     "output_type": "stream",
     "text": [
      "Adjusting learning rate of group 0 to 3.9093e-03.\n"
     ]
    },
    {
     "name": "stderr",
     "output_type": "stream",
     "text": [
      "\n"
     ]
    },
    {
     "name": "stdout",
     "output_type": "stream",
     "text": [
      "\n",
      "Test set: Average loss: 0.4769, Accuracy: 8378/10000 (83.78%)\n",
      "\n",
      "EPOCH: 57\n"
     ]
    },
    {
     "name": "stderr",
     "output_type": "stream",
     "text": [
      "Loss=1.0612032413482666 Batch_id=390 Accuracy=75.50: 100%|██████████| 391/391 [00:07<00:00, 52.23it/s]"
     ]
    },
    {
     "name": "stdout",
     "output_type": "stream",
     "text": [
      "Adjusting learning rate of group 0 to 3.7566e-03.\n"
     ]
    },
    {
     "name": "stderr",
     "output_type": "stream",
     "text": [
      "\n"
     ]
    },
    {
     "name": "stdout",
     "output_type": "stream",
     "text": [
      "\n",
      "Test set: Average loss: 0.4649, Accuracy: 8422/10000 (84.22%)\n",
      "\n",
      "EPOCH: 58\n"
     ]
    },
    {
     "name": "stderr",
     "output_type": "stream",
     "text": [
      "Loss=0.7258801460266113 Batch_id=390 Accuracy=75.44: 100%|██████████| 391/391 [00:07<00:00, 52.75it/s] "
     ]
    },
    {
     "name": "stdout",
     "output_type": "stream",
     "text": [
      "Adjusting learning rate of group 0 to 3.6050e-03.\n"
     ]
    },
    {
     "name": "stderr",
     "output_type": "stream",
     "text": [
      "\n"
     ]
    },
    {
     "name": "stdout",
     "output_type": "stream",
     "text": [
      "\n",
      "Test set: Average loss: 0.4719, Accuracy: 8403/10000 (84.03%)\n",
      "\n",
      "EPOCH: 59\n"
     ]
    },
    {
     "name": "stderr",
     "output_type": "stream",
     "text": [
      "Loss=0.732791543006897 Batch_id=390 Accuracy=75.55: 100%|██████████| 391/391 [00:07<00:00, 53.88it/s]  "
     ]
    },
    {
     "name": "stdout",
     "output_type": "stream",
     "text": [
      "Adjusting learning rate of group 0 to 3.4549e-03.\n"
     ]
    },
    {
     "name": "stderr",
     "output_type": "stream",
     "text": [
      "\n"
     ]
    },
    {
     "name": "stdout",
     "output_type": "stream",
     "text": [
      "\n",
      "Test set: Average loss: 0.4587, Accuracy: 8444/10000 (84.44%)\n",
      "\n",
      "EPOCH: 60\n"
     ]
    },
    {
     "name": "stderr",
     "output_type": "stream",
     "text": [
      "Loss=0.5443053841590881 Batch_id=390 Accuracy=75.82: 100%|██████████| 391/391 [00:07<00:00, 54.63it/s]"
     ]
    },
    {
     "name": "stdout",
     "output_type": "stream",
     "text": [
      "Adjusting learning rate of group 0 to 3.3063e-03.\n"
     ]
    },
    {
     "name": "stderr",
     "output_type": "stream",
     "text": [
      "\n"
     ]
    },
    {
     "name": "stdout",
     "output_type": "stream",
     "text": [
      "\n",
      "Test set: Average loss: 0.4520, Accuracy: 8459/10000 (84.59%)\n",
      "\n",
      "EPOCH: 61\n"
     ]
    },
    {
     "name": "stderr",
     "output_type": "stream",
     "text": [
      "Loss=0.7557817697525024 Batch_id=390 Accuracy=76.04: 100%|██████████| 391/391 [00:07<00:00, 54.13it/s] "
     ]
    },
    {
     "name": "stdout",
     "output_type": "stream",
     "text": [
      "Adjusting learning rate of group 0 to 3.1594e-03.\n"
     ]
    },
    {
     "name": "stderr",
     "output_type": "stream",
     "text": [
      "\n"
     ]
    },
    {
     "name": "stdout",
     "output_type": "stream",
     "text": [
      "\n",
      "Test set: Average loss: 0.4541, Accuracy: 8445/10000 (84.45%)\n",
      "\n",
      "EPOCH: 62\n"
     ]
    },
    {
     "name": "stderr",
     "output_type": "stream",
     "text": [
      "Loss=0.796240508556366 Batch_id=390 Accuracy=76.04: 100%|██████████| 391/391 [00:07<00:00, 54.97it/s]  \n"
     ]
    },
    {
     "name": "stdout",
     "output_type": "stream",
     "text": [
      "Adjusting learning rate of group 0 to 3.0143e-03.\n",
      "\n",
      "Test set: Average loss: 0.4566, Accuracy: 8420/10000 (84.20%)\n",
      "\n",
      "EPOCH: 63\n"
     ]
    },
    {
     "name": "stderr",
     "output_type": "stream",
     "text": [
      "Loss=0.6662209033966064 Batch_id=390 Accuracy=76.38: 100%|██████████| 391/391 [00:07<00:00, 54.53it/s] \n"
     ]
    },
    {
     "name": "stdout",
     "output_type": "stream",
     "text": [
      "Adjusting learning rate of group 0 to 2.8711e-03.\n",
      "\n",
      "Test set: Average loss: 0.4487, Accuracy: 8485/10000 (84.85%)\n",
      "\n",
      "EPOCH: 64\n"
     ]
    },
    {
     "name": "stderr",
     "output_type": "stream",
     "text": [
      "Loss=0.78925621509552 Batch_id=390 Accuracy=76.39: 100%|██████████| 391/391 [00:07<00:00, 53.10it/s]   "
     ]
    },
    {
     "name": "stdout",
     "output_type": "stream",
     "text": [
      "Adjusting learning rate of group 0 to 2.7300e-03.\n"
     ]
    },
    {
     "name": "stderr",
     "output_type": "stream",
     "text": [
      "\n"
     ]
    },
    {
     "name": "stdout",
     "output_type": "stream",
     "text": [
      "\n",
      "Test set: Average loss: 0.4433, Accuracy: 8475/10000 (84.75%)\n",
      "\n",
      "EPOCH: 65\n"
     ]
    },
    {
     "name": "stderr",
     "output_type": "stream",
     "text": [
      "Loss=0.7890010476112366 Batch_id=390 Accuracy=76.31: 100%|██████████| 391/391 [00:07<00:00, 53.81it/s] "
     ]
    },
    {
     "name": "stdout",
     "output_type": "stream",
     "text": [
      "Adjusting learning rate of group 0 to 2.5912e-03.\n"
     ]
    },
    {
     "name": "stderr",
     "output_type": "stream",
     "text": [
      "\n"
     ]
    },
    {
     "name": "stdout",
     "output_type": "stream",
     "text": [
      "\n",
      "Test set: Average loss: 0.4428, Accuracy: 8526/10000 (85.26%)\n",
      "\n",
      "EPOCH: 66\n"
     ]
    },
    {
     "name": "stderr",
     "output_type": "stream",
     "text": [
      "Loss=0.6942958831787109 Batch_id=390 Accuracy=76.75: 100%|██████████| 391/391 [00:07<00:00, 54.14it/s] "
     ]
    },
    {
     "name": "stdout",
     "output_type": "stream",
     "text": [
      "Adjusting learning rate of group 0 to 2.4548e-03.\n"
     ]
    },
    {
     "name": "stderr",
     "output_type": "stream",
     "text": [
      "\n"
     ]
    },
    {
     "name": "stdout",
     "output_type": "stream",
     "text": [
      "\n",
      "Test set: Average loss: 0.4455, Accuracy: 8490/10000 (84.90%)\n",
      "\n",
      "EPOCH: 67\n"
     ]
    },
    {
     "name": "stderr",
     "output_type": "stream",
     "text": [
      "Loss=0.7158239483833313 Batch_id=390 Accuracy=76.59: 100%|██████████| 391/391 [00:07<00:00, 53.90it/s] \n"
     ]
    },
    {
     "name": "stdout",
     "output_type": "stream",
     "text": [
      "Adjusting learning rate of group 0 to 2.3209e-03.\n",
      "\n",
      "Test set: Average loss: 0.4508, Accuracy: 8479/10000 (84.79%)\n",
      "\n",
      "EPOCH: 68\n"
     ]
    },
    {
     "name": "stderr",
     "output_type": "stream",
     "text": [
      "Loss=0.7589892148971558 Batch_id=390 Accuracy=76.75: 100%|██████████| 391/391 [00:07<00:00, 53.62it/s] "
     ]
    },
    {
     "name": "stdout",
     "output_type": "stream",
     "text": [
      "Adjusting learning rate of group 0 to 2.1896e-03.\n"
     ]
    },
    {
     "name": "stderr",
     "output_type": "stream",
     "text": [
      "\n"
     ]
    },
    {
     "name": "stdout",
     "output_type": "stream",
     "text": [
      "\n",
      "Test set: Average loss: 0.4424, Accuracy: 8483/10000 (84.83%)\n",
      "\n",
      "EPOCH: 69\n"
     ]
    },
    {
     "name": "stderr",
     "output_type": "stream",
     "text": [
      "Loss=0.5694417953491211 Batch_id=390 Accuracy=76.80: 100%|██████████| 391/391 [00:07<00:00, 53.54it/s] "
     ]
    },
    {
     "name": "stdout",
     "output_type": "stream",
     "text": [
      "Adjusting learning rate of group 0 to 2.0611e-03.\n"
     ]
    },
    {
     "name": "stderr",
     "output_type": "stream",
     "text": [
      "\n"
     ]
    },
    {
     "name": "stdout",
     "output_type": "stream",
     "text": [
      "\n",
      "Test set: Average loss: 0.4364, Accuracy: 8554/10000 (85.54%)\n",
      "\n",
      "EPOCH: 70\n"
     ]
    },
    {
     "name": "stderr",
     "output_type": "stream",
     "text": [
      "Loss=0.568416953086853 Batch_id=390 Accuracy=77.11: 100%|██████████| 391/391 [00:07<00:00, 53.31it/s]  "
     ]
    },
    {
     "name": "stdout",
     "output_type": "stream",
     "text": [
      "Adjusting learning rate of group 0 to 1.9355e-03.\n"
     ]
    },
    {
     "name": "stderr",
     "output_type": "stream",
     "text": [
      "\n"
     ]
    },
    {
     "name": "stdout",
     "output_type": "stream",
     "text": [
      "\n",
      "Test set: Average loss: 0.4350, Accuracy: 8551/10000 (85.51%)\n",
      "\n",
      "EPOCH: 71\n"
     ]
    },
    {
     "name": "stderr",
     "output_type": "stream",
     "text": [
      "Loss=0.805860698223114 Batch_id=390 Accuracy=76.97: 100%|██████████| 391/391 [00:07<00:00, 52.98it/s]  "
     ]
    },
    {
     "name": "stdout",
     "output_type": "stream",
     "text": [
      "Adjusting learning rate of group 0 to 1.8129e-03.\n"
     ]
    },
    {
     "name": "stderr",
     "output_type": "stream",
     "text": [
      "\n"
     ]
    },
    {
     "name": "stdout",
     "output_type": "stream",
     "text": [
      "\n",
      "Test set: Average loss: 0.4351, Accuracy: 8525/10000 (85.25%)\n",
      "\n",
      "EPOCH: 72\n"
     ]
    },
    {
     "name": "stderr",
     "output_type": "stream",
     "text": [
      "Loss=0.7866343259811401 Batch_id=390 Accuracy=77.02: 100%|██████████| 391/391 [00:07<00:00, 53.64it/s] "
     ]
    },
    {
     "name": "stdout",
     "output_type": "stream",
     "text": [
      "Adjusting learning rate of group 0 to 1.6934e-03.\n"
     ]
    },
    {
     "name": "stderr",
     "output_type": "stream",
     "text": [
      "\n"
     ]
    },
    {
     "name": "stdout",
     "output_type": "stream",
     "text": [
      "\n",
      "Test set: Average loss: 0.4408, Accuracy: 8512/10000 (85.12%)\n",
      "\n",
      "EPOCH: 73\n"
     ]
    },
    {
     "name": "stderr",
     "output_type": "stream",
     "text": [
      "Loss=0.8138516545295715 Batch_id=390 Accuracy=77.02: 100%|██████████| 391/391 [00:07<00:00, 53.88it/s] "
     ]
    },
    {
     "name": "stdout",
     "output_type": "stream",
     "text": [
      "Adjusting learning rate of group 0 to 1.5773e-03.\n"
     ]
    },
    {
     "name": "stderr",
     "output_type": "stream",
     "text": [
      "\n"
     ]
    },
    {
     "name": "stdout",
     "output_type": "stream",
     "text": [
      "\n",
      "Test set: Average loss: 0.4319, Accuracy: 8528/10000 (85.28%)\n",
      "\n",
      "EPOCH: 74\n"
     ]
    },
    {
     "name": "stderr",
     "output_type": "stream",
     "text": [
      "Loss=0.7559232711791992 Batch_id=390 Accuracy=77.37: 100%|██████████| 391/391 [00:07<00:00, 53.48it/s] "
     ]
    },
    {
     "name": "stdout",
     "output_type": "stream",
     "text": [
      "Adjusting learning rate of group 0 to 1.4645e-03.\n"
     ]
    },
    {
     "name": "stderr",
     "output_type": "stream",
     "text": [
      "\n"
     ]
    },
    {
     "name": "stdout",
     "output_type": "stream",
     "text": [
      "\n",
      "Test set: Average loss: 0.4375, Accuracy: 8527/10000 (85.27%)\n",
      "\n",
      "EPOCH: 75\n"
     ]
    },
    {
     "name": "stderr",
     "output_type": "stream",
     "text": [
      "Loss=0.49154600501060486 Batch_id=390 Accuracy=76.99: 100%|██████████| 391/391 [00:07<00:00, 53.83it/s]\n"
     ]
    },
    {
     "name": "stdout",
     "output_type": "stream",
     "text": [
      "Adjusting learning rate of group 0 to 1.3552e-03.\n",
      "\n",
      "Test set: Average loss: 0.4355, Accuracy: 8531/10000 (85.31%)\n",
      "\n",
      "EPOCH: 76\n"
     ]
    },
    {
     "name": "stderr",
     "output_type": "stream",
     "text": [
      "Loss=0.711984395980835 Batch_id=390 Accuracy=77.32: 100%|██████████| 391/391 [00:07<00:00, 54.27it/s]  "
     ]
    },
    {
     "name": "stdout",
     "output_type": "stream",
     "text": [
      "Adjusting learning rate of group 0 to 1.2494e-03.\n"
     ]
    },
    {
     "name": "stderr",
     "output_type": "stream",
     "text": [
      "\n"
     ]
    },
    {
     "name": "stdout",
     "output_type": "stream",
     "text": [
      "\n",
      "Test set: Average loss: 0.4310, Accuracy: 8545/10000 (85.45%)\n",
      "\n",
      "EPOCH: 77\n"
     ]
    },
    {
     "name": "stderr",
     "output_type": "stream",
     "text": [
      "Loss=0.8686666488647461 Batch_id=390 Accuracy=77.32: 100%|██████████| 391/391 [00:07<00:00, 54.01it/s] "
     ]
    },
    {
     "name": "stdout",
     "output_type": "stream",
     "text": [
      "Adjusting learning rate of group 0 to 1.1474e-03.\n"
     ]
    },
    {
     "name": "stderr",
     "output_type": "stream",
     "text": [
      "\n"
     ]
    },
    {
     "name": "stdout",
     "output_type": "stream",
     "text": [
      "\n",
      "Test set: Average loss: 0.4354, Accuracy: 8537/10000 (85.37%)\n",
      "\n",
      "EPOCH: 78\n"
     ]
    },
    {
     "name": "stderr",
     "output_type": "stream",
     "text": [
      "Loss=0.5973329544067383 Batch_id=390 Accuracy=77.43: 100%|██████████| 391/391 [00:07<00:00, 54.04it/s] "
     ]
    },
    {
     "name": "stdout",
     "output_type": "stream",
     "text": [
      "Adjusting learning rate of group 0 to 1.0492e-03.\n"
     ]
    },
    {
     "name": "stderr",
     "output_type": "stream",
     "text": [
      "\n"
     ]
    },
    {
     "name": "stdout",
     "output_type": "stream",
     "text": [
      "\n",
      "Test set: Average loss: 0.4300, Accuracy: 8528/10000 (85.28%)\n",
      "\n",
      "EPOCH: 79\n"
     ]
    },
    {
     "name": "stderr",
     "output_type": "stream",
     "text": [
      "Loss=0.6187299489974976 Batch_id=390 Accuracy=77.58: 100%|██████████| 391/391 [00:07<00:00, 51.94it/s] "
     ]
    },
    {
     "name": "stdout",
     "output_type": "stream",
     "text": [
      "Adjusting learning rate of group 0 to 9.5492e-04.\n"
     ]
    },
    {
     "name": "stderr",
     "output_type": "stream",
     "text": [
      "\n"
     ]
    },
    {
     "name": "stdout",
     "output_type": "stream",
     "text": [
      "\n",
      "Test set: Average loss: 0.4331, Accuracy: 8538/10000 (85.38%)\n",
      "\n",
      "EPOCH: 80\n"
     ]
    },
    {
     "name": "stderr",
     "output_type": "stream",
     "text": [
      "Loss=0.7418840527534485 Batch_id=390 Accuracy=77.45: 100%|██████████| 391/391 [00:07<00:00, 52.97it/s] "
     ]
    },
    {
     "name": "stdout",
     "output_type": "stream",
     "text": [
      "Adjusting learning rate of group 0 to 8.6460e-04.\n"
     ]
    },
    {
     "name": "stderr",
     "output_type": "stream",
     "text": [
      "\n"
     ]
    },
    {
     "name": "stdout",
     "output_type": "stream",
     "text": [
      "\n",
      "Test set: Average loss: 0.4309, Accuracy: 8532/10000 (85.32%)\n",
      "\n",
      "EPOCH: 81\n"
     ]
    },
    {
     "name": "stderr",
     "output_type": "stream",
     "text": [
      "Loss=0.710920512676239 Batch_id=390 Accuracy=77.59: 100%|██████████| 391/391 [00:07<00:00, 53.48it/s]  "
     ]
    },
    {
     "name": "stdout",
     "output_type": "stream",
     "text": [
      "Adjusting learning rate of group 0 to 7.7836e-04.\n"
     ]
    },
    {
     "name": "stderr",
     "output_type": "stream",
     "text": [
      "\n"
     ]
    },
    {
     "name": "stdout",
     "output_type": "stream",
     "text": [
      "\n",
      "Test set: Average loss: 0.4297, Accuracy: 8548/10000 (85.48%)\n",
      "\n",
      "EPOCH: 82\n"
     ]
    },
    {
     "name": "stderr",
     "output_type": "stream",
     "text": [
      "Loss=0.6920887231826782 Batch_id=390 Accuracy=77.72: 100%|██████████| 391/391 [00:07<00:00, 53.72it/s] "
     ]
    },
    {
     "name": "stdout",
     "output_type": "stream",
     "text": [
      "Adjusting learning rate of group 0 to 6.9629e-04.\n"
     ]
    },
    {
     "name": "stderr",
     "output_type": "stream",
     "text": [
      "\n"
     ]
    },
    {
     "name": "stdout",
     "output_type": "stream",
     "text": [
      "\n",
      "Test set: Average loss: 0.4300, Accuracy: 8562/10000 (85.62%)\n",
      "\n",
      "EPOCH: 83\n"
     ]
    },
    {
     "name": "stderr",
     "output_type": "stream",
     "text": [
      "Loss=0.6389903426170349 Batch_id=390 Accuracy=77.60: 100%|██████████| 391/391 [00:07<00:00, 53.67it/s] \n"
     ]
    },
    {
     "name": "stdout",
     "output_type": "stream",
     "text": [
      "Adjusting learning rate of group 0 to 6.1847e-04.\n",
      "\n",
      "Test set: Average loss: 0.4280, Accuracy: 8553/10000 (85.53%)\n",
      "\n",
      "EPOCH: 84\n"
     ]
    },
    {
     "name": "stderr",
     "output_type": "stream",
     "text": [
      "Loss=0.7053067684173584 Batch_id=390 Accuracy=77.85: 100%|██████████| 391/391 [00:07<00:00, 53.37it/s] "
     ]
    },
    {
     "name": "stdout",
     "output_type": "stream",
     "text": [
      "Adjusting learning rate of group 0 to 5.4497e-04.\n"
     ]
    },
    {
     "name": "stderr",
     "output_type": "stream",
     "text": [
      "\n"
     ]
    },
    {
     "name": "stdout",
     "output_type": "stream",
     "text": [
      "\n",
      "Test set: Average loss: 0.4261, Accuracy: 8557/10000 (85.57%)\n",
      "\n"
     ]
    }
   ],
   "source": [
    "from torch.optim.lr_scheduler import CosineAnnealingLR\n",
    "import torch\n",
    "model =  Net().to(device)\n",
    "optimizer = torch.optim.Adam(model.parameters(), lr=0.01)\n",
    "scheduler = CosineAnnealingLR(optimizer, T_max=100, verbose=True)\n",
    "\n",
    "EPOCHS = 85\n",
    "for epoch in range(EPOCHS):\n",
    "    print(\"EPOCH:\", epoch)\n",
    "    train(model, device, train_loader, optimizer, epoch, train_losses, train_acc)\n",
    "    scheduler.step()\n",
    "    test(model, device, test_loader, test_losses, test_acc)\n"
   ]
  },
  {
   "cell_type": "code",
   "execution_count": 10,
   "metadata": {},
   "outputs": [
    {
     "data": {
      "text/plain": [
       "Text(0.5, 1.0, 'Test Accuracy')"
      ]
     },
     "execution_count": 10,
     "metadata": {},
     "output_type": "execute_result"
    },
    {
     "data": {
      "image/png": "[encoded data removed]",
      "text/plain": [
       "<Figure size 1500x1000 with 4 Axes>"
      ]
     },
     "metadata": {},
     "output_type": "display_data"
    }
   ],
   "source": [
    "t = [t_items.item() for t_items in train_losses]\n",
    "%matplotlib inline\n",
    "import matplotlib.pyplot as plt\n",
    "fig, axs = plt.subplots(2,2,figsize=(15,10))\n",
    "axs[0, 0].plot(t)\n",
    "axs[0, 0].set_title(\"Training Loss\")\n",
    "axs[1, 0].plot(train_acc)\n",
    "axs[1, 0].set_title(\"Training Accuracy\")\n",
    "axs[0, 1].plot(test_losses)\n",
    "axs[0, 1].set_title(\"Test Loss\")\n",
    "axs[1, 1].plot(test_acc)\n",
    "axs[1, 1].set_title(\"Test Accuracy\")"
   ]
  },
  {
   "cell_type": "code",
   "execution_count": null,
   "metadata": {},
   "outputs": [],
   "source": []
  }
 ],
 "metadata": {
  "kernelspec": {
   "display_name": "py39",
   "language": "python",
   "name": "python3"
  },
  "language_info": {
   "codemirror_mode": {
    "name": "ipython",
    "version": 3
   },
   "file_extension": ".py",
   "mimetype": "text/x-python",
   "name": "python",
   "nbconvert_exporter": "python",
   "pygments_lexer": "ipython3",
   "version": "3.9.16"
  }
 },
 "nbformat": 4,
 "nbformat_minor": 4
}
